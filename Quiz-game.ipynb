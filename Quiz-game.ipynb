{
 "cells": [
  {
   "cell_type": "code",
   "execution_count": 10,
   "id": "f5b351ed-fed4-41ef-b6f2-8ba043066ecb",
   "metadata": {},
   "outputs": [
    {
     "name": "stdout",
     "output_type": "stream",
     "text": [
      "\n",
      "Welcome to the Quiz Game!\n"
     ]
    },
    {
     "name": "stdin",
     "output_type": "stream",
     "text": [
      "Choose difficulty level (easy, medium, hard):  easy\n",
      "How many rounds would you like to play?  2\n"
     ]
    },
    {
     "name": "stdout",
     "output_type": "stream",
     "text": [
      "\n",
      "Round 1\n",
      "\n",
      "Question: Which programming language is known as the language of the web?\n",
      "1. JavaScript\n",
      "2. Python\n",
      "3. Java\n"
     ]
    },
    {
     "name": "stdin",
     "output_type": "stream",
     "text": [
      "Choose your answer (1/2/3) within 10 seconds:  1\n"
     ]
    },
    {
     "name": "stdout",
     "output_type": "stream",
     "text": [
      "Correct! Time taken: 2.63 seconds.\n",
      "\n",
      "Round 2\n",
      "\n",
      "Question: What is the capital of France?\n",
      "1. Berlin\n",
      "2. Paris\n",
      "3. Madrid\n"
     ]
    },
    {
     "name": "stdin",
     "output_type": "stream",
     "text": [
      "Choose your answer (1/2/3) within 10 seconds:  2\n"
     ]
    },
    {
     "name": "stdout",
     "output_type": "stream",
     "text": [
      "Correct! Time taken: 3.75 seconds.\n",
      "\n",
      "Game Over! Your score is: 2 out of 2\n",
      "Total time taken: 6.38 seconds\n"
     ]
    },
    {
     "name": "stdin",
     "output_type": "stream",
     "text": [
      "Enter your name for the leaderboard:  lcl\n"
     ]
    },
    {
     "name": "stdout",
     "output_type": "stream",
     "text": [
      "\n",
      "Leaderboard:\n",
      "1. lcl - 2 points\n"
     ]
    },
    {
     "name": "stdin",
     "output_type": "stream",
     "text": [
      "\n",
      "Do you want to play another round? (yes/no):  yes\n"
     ]
    },
    {
     "name": "stdout",
     "output_type": "stream",
     "text": [
      "\n",
      "Welcome to the Quiz Game!\n"
     ]
    },
    {
     "name": "stdin",
     "output_type": "stream",
     "text": [
      "Choose difficulty level (easy, medium, hard):  medium\n",
      "How many rounds would you like to play?  1\n"
     ]
    },
    {
     "name": "stdout",
     "output_type": "stream",
     "text": [
      "\n",
      "Round 1\n",
      "\n",
      "Question: What is the largest planet in our solar system?\n",
      "1. Jupiter\n",
      "2. Mars\n",
      "3. Earth\n"
     ]
    },
    {
     "name": "stdin",
     "output_type": "stream",
     "text": [
      "Choose your answer (1/2/3) within 10 seconds:  1\n"
     ]
    },
    {
     "name": "stdout",
     "output_type": "stream",
     "text": [
      "Correct! Time taken: 2.58 seconds.\n",
      "\n",
      "Game Over! Your score is: 1 out of 1\n",
      "Total time taken: 2.58 seconds\n"
     ]
    },
    {
     "name": "stdin",
     "output_type": "stream",
     "text": [
      "Enter your name for the leaderboard:  rcl\n"
     ]
    },
    {
     "name": "stdout",
     "output_type": "stream",
     "text": [
      "\n",
      "Leaderboard:\n",
      "1. lcl - 2 points\n",
      "2. rcl - 1 points\n"
     ]
    },
    {
     "name": "stdin",
     "output_type": "stream",
     "text": [
      "\n",
      "Do you want to play another round? (yes/no):  no\n"
     ]
    },
    {
     "name": "stdout",
     "output_type": "stream",
     "text": [
      "Thanks for playing!\n"
     ]
    }
   ],
   "source": [
    "import random\n",
    "import time\n",
    "\n",
    "# Define a sample set of questions for each difficulty level\n",
    "questions_easy = [\n",
    "    {\n",
    "        \"question\": \"What is the capital of France?\",\n",
    "        \"options\": [\"Berlin\", \"Madrid\", \"Paris\"],\n",
    "        \"answer\": \"Paris\"\n",
    "    },\n",
    "    {\n",
    "        \"question\": \"Which programming language is known as the language of the web?\",\n",
    "        \"options\": [\"Java\", \"Python\", \"JavaScript\"],\n",
    "        \"answer\": \"JavaScript\"\n",
    "    }\n",
    "]\n",
    "\n",
    "questions_medium = [\n",
    "    {\n",
    "        \"question\": \"Who wrote 'Romeo and Juliet'?\",\n",
    "        \"options\": [\"Charles Dickens\", \"William Shakespeare\", \"Jane Austen\"],\n",
    "        \"answer\": \"William Shakespeare\"\n",
    "    },\n",
    "    {\n",
    "        \"question\": \"What is the largest planet in our solar system?\",\n",
    "        \"options\": [\"Earth\", \"Mars\", \"Jupiter\"],\n",
    "        \"answer\": \"Jupiter\"\n",
    "    }\n",
    "]\n",
    "\n",
    "questions_hard = [\n",
    "    {\n",
    "        \"question\": \"Which element has the chemical symbol 'O'?\",\n",
    "        \"options\": [\"Oxygen\", \"Osmium\", \"Ozone\"],\n",
    "        \"answer\": \"Oxygen\"\n",
    "    },\n",
    "    {\n",
    "        \"question\": \"What is the square root of 144?\",\n",
    "        \"options\": [\"10\", \"11\", \"12\"],\n",
    "        \"answer\": \"12\"\n",
    "    }\n",
    "]\n",
    "\n",
    "# Combine all questions in a dictionary based on difficulty\n",
    "questions = {\n",
    "    \"easy\": questions_easy,\n",
    "    \"medium\": questions_medium,\n",
    "    \"hard\": questions_hard\n",
    "}\n",
    "\n",
    "# Leaderboard to keep track of high scores\n",
    "leaderboard = []\n",
    "\n",
    "def ask_question(q, time_limit=10):\n",
    "    # Randomize the order of the answer options\n",
    "    options = random.sample(q[\"options\"], len(q[\"options\"]))\n",
    "    \n",
    "    # Display the question and answer choices\n",
    "    print(f\"\\nQuestion: {q['question']}\")\n",
    "    for idx, option in enumerate(options, 1):\n",
    "        print(f\"{idx}. {option}\")\n",
    "    \n",
    "    # Timer to enforce time limit for answering\n",
    "    start_time = time.time()\n",
    "    while True:\n",
    "        try:\n",
    "            answer = int(input(f\"Choose your answer (1/2/3) within {time_limit} seconds: \"))\n",
    "            if answer < 1 or answer > 3:\n",
    "                print(\"Error: Please choose a valid option (1, 2, or 3).\")\n",
    "                continue\n",
    "            answer_time = time.time() - start_time  # Time taken to answer\n",
    "            if answer_time > time_limit:\n",
    "                print(f\"\\nTime's up! You took too long to answer (over {time_limit} seconds).\")\n",
    "                return False, answer_time\n",
    "            break\n",
    "        except ValueError:\n",
    "            print(\"Error: Please enter a number (1, 2, or 3).\")\n",
    "    \n",
    "    selected_option = options[answer - 1]\n",
    "    if selected_option == q[\"answer\"]:\n",
    "        print(f\"Correct! Time taken: {answer_time:.2f} seconds.\")\n",
    "        return True, answer_time\n",
    "    else:\n",
    "        print(f\"Wrong! The correct answer is: {q['answer']} (Time taken: {answer_time:.2f} seconds).\")\n",
    "        return False, answer_time\n",
    "\n",
    "def main():\n",
    "    while True:\n",
    "        score = 0\n",
    "        total_time = 0\n",
    "        rounds = 0\n",
    "\n",
    "        print(\"\\nWelcome to the Quiz Game!\")\n",
    "        \n",
    "        # Let user choose difficulty level\n",
    "        difficulty = input(\"Choose difficulty level (easy, medium, hard): \").lower()\n",
    "        if difficulty not in questions:\n",
    "            print(\"Invalid difficulty level. Please choose from 'easy', 'medium', or 'hard'.\")\n",
    "            continue\n",
    "\n",
    "        # Start playing the quiz\n",
    "        rounds_to_play = int(input(\"How many rounds would you like to play? \"))\n",
    "        while rounds < rounds_to_play:\n",
    "            rounds += 1\n",
    "            print(f\"\\nRound {rounds}\")\n",
    "            q = random.choice(questions[difficulty])  # Select a random question\n",
    "            correct, time_taken = ask_question(q, time_limit=10)\n",
    "            if correct:\n",
    "                score += 1\n",
    "            total_time += time_taken\n",
    "\n",
    "        # Display the final score\n",
    "        print(f\"\\nGame Over! Your score is: {score} out of {rounds}\")\n",
    "        print(f\"Total time taken: {total_time:.2f} seconds\")\n",
    "\n",
    "        # Save score to leaderboard\n",
    "        name = input(\"Enter your name for the leaderboard: \")\n",
    "        leaderboard.append((name, score))\n",
    "\n",
    "        # Sort leaderboard by score\n",
    "        leaderboard.sort(key=lambda x: x[1], reverse=True)\n",
    "        print(\"\\nLeaderboard:\")\n",
    "        for idx, (player, player_score) in enumerate(leaderboard, 1):\n",
    "            print(f\"{idx}. {player} - {player_score} points\")\n",
    "\n",
    "        # Ask if the user wants to play another round\n",
    "        play_again = input(\"\\nDo you want to play another round? (yes/no): \").lower()\n",
    "        if play_again != \"yes\":\n",
    "            print(\"Thanks for playing!\")\n",
    "            break\n",
    "\n",
    "if __name__ == \"__main__\":\n",
    "    main()\n"
   ]
  },
  {
   "cell_type": "code",
   "execution_count": null,
   "id": "674aba76-f5df-415d-ba89-d129cde30e80",
   "metadata": {},
   "outputs": [],
   "source": []
  },
  {
   "cell_type": "code",
   "execution_count": null,
   "id": "238dcfac-5727-4879-a83f-beca5fdea427",
   "metadata": {},
   "outputs": [],
   "source": []
  }
 ],
 "metadata": {
  "kernelspec": {
   "display_name": "Python 3 (ipykernel)",
   "language": "python",
   "name": "python3"
  },
  "language_info": {
   "codemirror_mode": {
    "name": "ipython",
    "version": 3
   },
   "file_extension": ".py",
   "mimetype": "text/x-python",
   "name": "python",
   "nbconvert_exporter": "python",
   "pygments_lexer": "ipython3",
   "version": "3.12.4"
  }
 },
 "nbformat": 4,
 "nbformat_minor": 5
}
